{
 "cells": [
  {
   "cell_type": "code",
   "execution_count": 15,
   "id": "041766ed",
   "metadata": {},
   "outputs": [],
   "source": [
    "import numpy as np\n",
    "import pandas as pd\n",
    "import seaborn as sns\n",
    "import matplotlib.pyplot as plt"
   ]
  },
  {
   "cell_type": "code",
   "execution_count": 16,
   "id": "68cd6ea8",
   "metadata": {},
   "outputs": [],
   "source": [
    "data = pd.read_csv(\"C:/baseball_players.csv\")"
   ]
  },
  {
   "cell_type": "code",
   "execution_count": 17,
   "id": "18c10ee2",
   "metadata": {},
   "outputs": [],
   "source": [
    "df_data=pd.DataFrame(data=data)"
   ]
  },
  {
   "cell_type": "code",
   "execution_count": 18,
   "id": "0b4b7d69",
   "metadata": {},
   "outputs": [
    {
     "data": {
      "text/html": [
       "<div>\n",
       "<style scoped>\n",
       "    .dataframe tbody tr th:only-of-type {\n",
       "        vertical-align: middle;\n",
       "    }\n",
       "\n",
       "    .dataframe tbody tr th {\n",
       "        vertical-align: top;\n",
       "    }\n",
       "\n",
       "    .dataframe thead th {\n",
       "        text-align: right;\n",
       "    }\n",
       "</style>\n",
       "<table border=\"1\" class=\"dataframe\">\n",
       "  <thead>\n",
       "    <tr style=\"text-align: right;\">\n",
       "      <th></th>\n",
       "      <th>Name</th>\n",
       "      <th>Team</th>\n",
       "      <th>Position</th>\n",
       "      <th>Height(inches)</th>\n",
       "      <th>Weight(pounds)</th>\n",
       "      <th>Age</th>\n",
       "    </tr>\n",
       "  </thead>\n",
       "  <tbody>\n",
       "    <tr>\n",
       "      <th>0</th>\n",
       "      <td>Adam_Donachie</td>\n",
       "      <td>BAL</td>\n",
       "      <td>Catcher</td>\n",
       "      <td>74</td>\n",
       "      <td>180.0</td>\n",
       "      <td>22.99</td>\n",
       "    </tr>\n",
       "    <tr>\n",
       "      <th>1</th>\n",
       "      <td>Paul_Bako</td>\n",
       "      <td>BAL</td>\n",
       "      <td>Catcher</td>\n",
       "      <td>74</td>\n",
       "      <td>215.0</td>\n",
       "      <td>34.69</td>\n",
       "    </tr>\n",
       "    <tr>\n",
       "      <th>2</th>\n",
       "      <td>Ramon_Hernandez</td>\n",
       "      <td>BAL</td>\n",
       "      <td>Catcher</td>\n",
       "      <td>72</td>\n",
       "      <td>210.0</td>\n",
       "      <td>30.78</td>\n",
       "    </tr>\n",
       "    <tr>\n",
       "      <th>3</th>\n",
       "      <td>Kevin_Millar</td>\n",
       "      <td>BAL</td>\n",
       "      <td>First_Baseman</td>\n",
       "      <td>72</td>\n",
       "      <td>210.0</td>\n",
       "      <td>35.43</td>\n",
       "    </tr>\n",
       "    <tr>\n",
       "      <th>4</th>\n",
       "      <td>Chris_Gomez</td>\n",
       "      <td>BAL</td>\n",
       "      <td>First_Baseman</td>\n",
       "      <td>73</td>\n",
       "      <td>188.0</td>\n",
       "      <td>35.71</td>\n",
       "    </tr>\n",
       "    <tr>\n",
       "      <th>...</th>\n",
       "      <td>...</td>\n",
       "      <td>...</td>\n",
       "      <td>...</td>\n",
       "      <td>...</td>\n",
       "      <td>...</td>\n",
       "      <td>...</td>\n",
       "    </tr>\n",
       "    <tr>\n",
       "      <th>1029</th>\n",
       "      <td>Brad_Thompson</td>\n",
       "      <td>STL</td>\n",
       "      <td>Relief_Pitcher</td>\n",
       "      <td>73</td>\n",
       "      <td>190.0</td>\n",
       "      <td>25.08</td>\n",
       "    </tr>\n",
       "    <tr>\n",
       "      <th>1030</th>\n",
       "      <td>Tyler_Johnson</td>\n",
       "      <td>STL</td>\n",
       "      <td>Relief_Pitcher</td>\n",
       "      <td>74</td>\n",
       "      <td>180.0</td>\n",
       "      <td>25.73</td>\n",
       "    </tr>\n",
       "    <tr>\n",
       "      <th>1031</th>\n",
       "      <td>Chris_Narveson</td>\n",
       "      <td>STL</td>\n",
       "      <td>Relief_Pitcher</td>\n",
       "      <td>75</td>\n",
       "      <td>205.0</td>\n",
       "      <td>25.19</td>\n",
       "    </tr>\n",
       "    <tr>\n",
       "      <th>1032</th>\n",
       "      <td>Randy_Keisler</td>\n",
       "      <td>STL</td>\n",
       "      <td>Relief_Pitcher</td>\n",
       "      <td>75</td>\n",
       "      <td>190.0</td>\n",
       "      <td>31.01</td>\n",
       "    </tr>\n",
       "    <tr>\n",
       "      <th>1033</th>\n",
       "      <td>Josh_Kinney</td>\n",
       "      <td>STL</td>\n",
       "      <td>Relief_Pitcher</td>\n",
       "      <td>73</td>\n",
       "      <td>195.0</td>\n",
       "      <td>27.92</td>\n",
       "    </tr>\n",
       "  </tbody>\n",
       "</table>\n",
       "<p>1034 rows × 6 columns</p>\n",
       "</div>"
      ],
      "text/plain": [
       "                 Name Team        Position  Height(inches)  Weight(pounds)  \\\n",
       "0       Adam_Donachie  BAL         Catcher              74           180.0   \n",
       "1           Paul_Bako  BAL         Catcher              74           215.0   \n",
       "2     Ramon_Hernandez  BAL         Catcher              72           210.0   \n",
       "3        Kevin_Millar  BAL   First_Baseman              72           210.0   \n",
       "4         Chris_Gomez  BAL   First_Baseman              73           188.0   \n",
       "...               ...  ...             ...             ...             ...   \n",
       "1029    Brad_Thompson  STL  Relief_Pitcher              73           190.0   \n",
       "1030    Tyler_Johnson  STL  Relief_Pitcher              74           180.0   \n",
       "1031   Chris_Narveson  STL  Relief_Pitcher              75           205.0   \n",
       "1032    Randy_Keisler  STL  Relief_Pitcher              75           190.0   \n",
       "1033      Josh_Kinney  STL  Relief_Pitcher              73           195.0   \n",
       "\n",
       "        Age  \n",
       "0     22.99  \n",
       "1     34.69  \n",
       "2     30.78  \n",
       "3     35.43  \n",
       "4     35.71  \n",
       "...     ...  \n",
       "1029  25.08  \n",
       "1030  25.73  \n",
       "1031  25.19  \n",
       "1032  31.01  \n",
       "1033  27.92  \n",
       "\n",
       "[1034 rows x 6 columns]"
      ]
     },
     "execution_count": 18,
     "metadata": {},
     "output_type": "execute_result"
    }
   ],
   "source": [
    "df_data"
   ]
  },
  {
   "cell_type": "code",
   "execution_count": 19,
   "id": "097ac8df",
   "metadata": {
    "scrolled": true
   },
   "outputs": [
    {
     "name": "stdout",
     "output_type": "stream",
     "text": [
      "<class 'pandas.core.frame.DataFrame'>\n",
      "RangeIndex: 1034 entries, 0 to 1033\n",
      "Data columns (total 6 columns):\n",
      " #   Column          Non-Null Count  Dtype  \n",
      "---  ------          --------------  -----  \n",
      " 0   Name            1034 non-null   object \n",
      " 1   Team            1034 non-null   object \n",
      " 2   Position        1034 non-null   object \n",
      " 3   Height(inches)  1034 non-null   int64  \n",
      " 4   Weight(pounds)  1033 non-null   float64\n",
      " 5   Age             1034 non-null   float64\n",
      "dtypes: float64(2), int64(1), object(3)\n",
      "memory usage: 48.6+ KB\n"
     ]
    }
   ],
   "source": [
    "df_data.info()"
   ]
  },
  {
   "cell_type": "code",
   "execution_count": 20,
   "id": "57f4609a",
   "metadata": {},
   "outputs": [
    {
     "data": {
      "text/plain": [
       "Name              0\n",
       "Team              0\n",
       "Position          0\n",
       "Height(inches)    0\n",
       "Weight(pounds)    1\n",
       "Age               0\n",
       "dtype: int64"
      ]
     },
     "execution_count": 20,
     "metadata": {},
     "output_type": "execute_result"
    }
   ],
   "source": [
    "df_data.isnull().sum()"
   ]
  },
  {
   "cell_type": "code",
   "execution_count": 56,
   "id": "fab30393",
   "metadata": {},
   "outputs": [],
   "source": [
    "df_data=df_data.dropna()"
   ]
  },
  {
   "cell_type": "code",
   "execution_count": 57,
   "id": "b019e477",
   "metadata": {},
   "outputs": [
    {
     "data": {
      "text/html": [
       "<div>\n",
       "<style scoped>\n",
       "    .dataframe tbody tr th:only-of-type {\n",
       "        vertical-align: middle;\n",
       "    }\n",
       "\n",
       "    .dataframe tbody tr th {\n",
       "        vertical-align: top;\n",
       "    }\n",
       "\n",
       "    .dataframe thead th {\n",
       "        text-align: right;\n",
       "    }\n",
       "</style>\n",
       "<table border=\"1\" class=\"dataframe\">\n",
       "  <thead>\n",
       "    <tr style=\"text-align: right;\">\n",
       "      <th></th>\n",
       "      <th>Name</th>\n",
       "      <th>Team</th>\n",
       "      <th>Position</th>\n",
       "      <th>Height(inches)</th>\n",
       "      <th>Weight(pounds)</th>\n",
       "      <th>Age</th>\n",
       "    </tr>\n",
       "  </thead>\n",
       "  <tbody>\n",
       "    <tr>\n",
       "      <th>0</th>\n",
       "      <td>Adam_Donachie</td>\n",
       "      <td>3</td>\n",
       "      <td>0</td>\n",
       "      <td>74</td>\n",
       "      <td>180.0</td>\n",
       "      <td>22.99</td>\n",
       "    </tr>\n",
       "    <tr>\n",
       "      <th>1</th>\n",
       "      <td>Paul_Bako</td>\n",
       "      <td>3</td>\n",
       "      <td>0</td>\n",
       "      <td>74</td>\n",
       "      <td>215.0</td>\n",
       "      <td>34.69</td>\n",
       "    </tr>\n",
       "    <tr>\n",
       "      <th>2</th>\n",
       "      <td>Ramon_Hernandez</td>\n",
       "      <td>3</td>\n",
       "      <td>0</td>\n",
       "      <td>72</td>\n",
       "      <td>210.0</td>\n",
       "      <td>30.78</td>\n",
       "    </tr>\n",
       "    <tr>\n",
       "      <th>3</th>\n",
       "      <td>Kevin_Millar</td>\n",
       "      <td>3</td>\n",
       "      <td>2</td>\n",
       "      <td>72</td>\n",
       "      <td>210.0</td>\n",
       "      <td>35.43</td>\n",
       "    </tr>\n",
       "    <tr>\n",
       "      <th>4</th>\n",
       "      <td>Chris_Gomez</td>\n",
       "      <td>3</td>\n",
       "      <td>2</td>\n",
       "      <td>73</td>\n",
       "      <td>188.0</td>\n",
       "      <td>35.71</td>\n",
       "    </tr>\n",
       "    <tr>\n",
       "      <th>...</th>\n",
       "      <td>...</td>\n",
       "      <td>...</td>\n",
       "      <td>...</td>\n",
       "      <td>...</td>\n",
       "      <td>...</td>\n",
       "      <td>...</td>\n",
       "    </tr>\n",
       "    <tr>\n",
       "      <th>1029</th>\n",
       "      <td>Brad_Thompson</td>\n",
       "      <td>25</td>\n",
       "      <td>4</td>\n",
       "      <td>73</td>\n",
       "      <td>190.0</td>\n",
       "      <td>25.08</td>\n",
       "    </tr>\n",
       "    <tr>\n",
       "      <th>1030</th>\n",
       "      <td>Tyler_Johnson</td>\n",
       "      <td>25</td>\n",
       "      <td>4</td>\n",
       "      <td>74</td>\n",
       "      <td>180.0</td>\n",
       "      <td>25.73</td>\n",
       "    </tr>\n",
       "    <tr>\n",
       "      <th>1031</th>\n",
       "      <td>Chris_Narveson</td>\n",
       "      <td>25</td>\n",
       "      <td>4</td>\n",
       "      <td>75</td>\n",
       "      <td>205.0</td>\n",
       "      <td>25.19</td>\n",
       "    </tr>\n",
       "    <tr>\n",
       "      <th>1032</th>\n",
       "      <td>Randy_Keisler</td>\n",
       "      <td>25</td>\n",
       "      <td>4</td>\n",
       "      <td>75</td>\n",
       "      <td>190.0</td>\n",
       "      <td>31.01</td>\n",
       "    </tr>\n",
       "    <tr>\n",
       "      <th>1033</th>\n",
       "      <td>Josh_Kinney</td>\n",
       "      <td>25</td>\n",
       "      <td>4</td>\n",
       "      <td>73</td>\n",
       "      <td>195.0</td>\n",
       "      <td>27.92</td>\n",
       "    </tr>\n",
       "  </tbody>\n",
       "</table>\n",
       "<p>1033 rows × 6 columns</p>\n",
       "</div>"
      ],
      "text/plain": [
       "                 Name  Team  Position  Height(inches)  Weight(pounds)    Age\n",
       "0       Adam_Donachie     3         0              74           180.0  22.99\n",
       "1           Paul_Bako     3         0              74           215.0  34.69\n",
       "2     Ramon_Hernandez     3         0              72           210.0  30.78\n",
       "3        Kevin_Millar     3         2              72           210.0  35.43\n",
       "4         Chris_Gomez     3         2              73           188.0  35.71\n",
       "...               ...   ...       ...             ...             ...    ...\n",
       "1029    Brad_Thompson    25         4              73           190.0  25.08\n",
       "1030    Tyler_Johnson    25         4              74           180.0  25.73\n",
       "1031   Chris_Narveson    25         4              75           205.0  25.19\n",
       "1032    Randy_Keisler    25         4              75           190.0  31.01\n",
       "1033      Josh_Kinney    25         4              73           195.0  27.92\n",
       "\n",
       "[1033 rows x 6 columns]"
      ]
     },
     "execution_count": 57,
     "metadata": {},
     "output_type": "execute_result"
    }
   ],
   "source": [
    "df_data"
   ]
  },
  {
   "cell_type": "code",
   "execution_count": 58,
   "id": "875cc0c8",
   "metadata": {},
   "outputs": [
    {
     "name": "stdout",
     "output_type": "stream",
     "text": [
      "<class 'pandas.core.frame.DataFrame'>\n",
      "Int64Index: 1033 entries, 0 to 1033\n",
      "Data columns (total 6 columns):\n",
      " #   Column          Non-Null Count  Dtype  \n",
      "---  ------          --------------  -----  \n",
      " 0   Name            1033 non-null   object \n",
      " 1   Team            1033 non-null   int64  \n",
      " 2   Position        1033 non-null   int64  \n",
      " 3   Height(inches)  1033 non-null   int64  \n",
      " 4   Weight(pounds)  1033 non-null   float64\n",
      " 5   Age             1033 non-null   float64\n",
      "dtypes: float64(2), int64(3), object(1)\n",
      "memory usage: 56.5+ KB\n"
     ]
    }
   ],
   "source": [
    "df_data.info()"
   ]
  },
  {
   "cell_type": "code",
   "execution_count": 59,
   "id": "d25a6e3d",
   "metadata": {},
   "outputs": [
    {
     "data": {
      "text/plain": [
       "<AxesSubplot:xlabel='Position', ylabel='count'>"
      ]
     },
     "execution_count": 59,
     "metadata": {},
     "output_type": "execute_result"
    },
    {
     "data": {
      "image/png": "[encoded data removed]",
      "text/plain": [
       "<Figure size 640x480 with 1 Axes>"
      ]
     },
     "metadata": {},
     "output_type": "display_data"
    }
   ],
   "source": [
    "sns.countplot(data=df_data,x=df_data[\"Position\"])"
   ]
  },
  {
   "cell_type": "code",
   "execution_count": 60,
   "id": "7e151648",
   "metadata": {},
   "outputs": [
    {
     "data": {
      "text/plain": [
       "<AxesSubplot:xlabel='Position', ylabel='Age'>"
      ]
     },
     "execution_count": 60,
     "metadata": {},
     "output_type": "execute_result"
    },
    {
     "data": {
      "image/png": "[encoded data removed]",
      "text/plain": [
       "<Figure size 640x480 with 1 Axes>"
      ]
     },
     "metadata": {},
     "output_type": "display_data"
    }
   ],
   "source": [
    "sns.boxplot(x='Position',y='Age',data=df_data)"
   ]
  },
  {
   "cell_type": "code",
   "execution_count": 61,
   "id": "8d5357a7",
   "metadata": {},
   "outputs": [
    {
     "data": {
      "text/plain": [
       "<AxesSubplot:xlabel='Position', ylabel='Weight(pounds)'>"
      ]
     },
     "execution_count": 61,
     "metadata": {},
     "output_type": "execute_result"
    },
    {
     "data": {
      "image/png": "[encoded data removed]",
      "text/plain": [
       "<Figure size 640x480 with 1 Axes>"
      ]
     },
     "metadata": {},
     "output_type": "display_data"
    }
   ],
   "source": [
    "sns.boxplot(x='Position',y='Weight(pounds)',data=df_data)"
   ]
  },
  {
   "cell_type": "code",
   "execution_count": 62,
   "id": "08a84650",
   "metadata": {
    "scrolled": true
   },
   "outputs": [
    {
     "data": {
      "image/png": "[encoded data removed]",
      "text/plain": [
       "<Figure size 640x480 with 1 Axes>"
      ]
     },
     "metadata": {},
     "output_type": "display_data"
    }
   ],
   "source": [
    "sns.countplot(x='Position',data=df_data,palette=[sns.color_palette()[0]],order=df_data.Position.value_counts().index)\n",
    "plt.title(\"record per positions\");"
   ]
  },
  {
   "cell_type": "code",
   "execution_count": 63,
   "id": "163cb65f",
   "metadata": {},
   "outputs": [
    {
     "data": {
      "text/plain": [
       "Counter({0: 76, 2: 55, 5: 58, 6: 52, 8: 45, 3: 194, 1: 18, 7: 220, 4: 315})"
      ]
     },
     "execution_count": 63,
     "metadata": {},
     "output_type": "execute_result"
    }
   ],
   "source": [
    "from collections import Counter\n",
    "Counter(df_data[\"Position\"])"
   ]
  },
  {
   "cell_type": "code",
   "execution_count": 64,
   "id": "d6b6ef6d",
   "metadata": {},
   "outputs": [
    {
     "name": "stderr",
     "output_type": "stream",
     "text": [
      "C:\\Users\\tompo\\AppData\\Local\\Temp\\ipykernel_8944\\2072659510.py:3: SettingWithCopyWarning: \n",
      "A value is trying to be set on a copy of a slice from a DataFrame.\n",
      "Try using .loc[row_indexer,col_indexer] = value instead\n",
      "\n",
      "See the caveats in the documentation: https://pandas.pydata.org/pandas-docs/stable/user_guide/indexing.html#returning-a-view-versus-a-copy\n",
      "  df_data['Position']=le.fit_transform(df_data['Position'])\n",
      "C:\\Users\\tompo\\AppData\\Local\\Temp\\ipykernel_8944\\2072659510.py:4: SettingWithCopyWarning: \n",
      "A value is trying to be set on a copy of a slice from a DataFrame.\n",
      "Try using .loc[row_indexer,col_indexer] = value instead\n",
      "\n",
      "See the caveats in the documentation: https://pandas.pydata.org/pandas-docs/stable/user_guide/indexing.html#returning-a-view-versus-a-copy\n",
      "  df_data['Team']=le.fit_transform(df_data['Team'])\n"
     ]
    }
   ],
   "source": [
    "from sklearn.preprocessing import LabelEncoder\n",
    "le = LabelEncoder()\n",
    "df_data['Position']=le.fit_transform(df_data['Position'])\n",
    "df_data['Team']=le.fit_transform(df_data['Team'])"
   ]
  },
  {
   "cell_type": "code",
   "execution_count": 65,
   "id": "53ab6e55",
   "metadata": {},
   "outputs": [
    {
     "data": {
      "text/plain": [
       "0       0\n",
       "1       0\n",
       "2       0\n",
       "3       2\n",
       "4       2\n",
       "       ..\n",
       "1029    4\n",
       "1030    4\n",
       "1031    4\n",
       "1032    4\n",
       "1033    4\n",
       "Name: Position, Length: 1033, dtype: int64"
      ]
     },
     "execution_count": 65,
     "metadata": {},
     "output_type": "execute_result"
    }
   ],
   "source": [
    "df_data['Position']"
   ]
  },
  {
   "cell_type": "code",
   "execution_count": 66,
   "id": "3e6b1f6e",
   "metadata": {},
   "outputs": [
    {
     "data": {
      "image/png": "[encoded data removed]",
      "text/plain": [
       "<Figure size 640x480 with 1 Axes>"
      ]
     },
     "metadata": {},
     "output_type": "display_data"
    }
   ],
   "source": [
    "sns.countplot(x='Position',data=df_data,palette=[sns.color_palette()[0]],order=df_data.Position.value_counts().index)\n",
    "plt.title(\"record per positions\");"
   ]
  },
  {
   "cell_type": "code",
   "execution_count": 67,
   "id": "52caf40a",
   "metadata": {},
   "outputs": [
    {
     "data": {
      "text/plain": [
       "Counter({0: 76, 2: 55, 5: 58, 6: 52, 8: 45, 3: 194, 1: 18, 7: 220, 4: 315})"
      ]
     },
     "execution_count": 67,
     "metadata": {},
     "output_type": "execute_result"
    }
   ],
   "source": [
    "from collections import Counter\n",
    "Counter(df_data[\"Position\"])"
   ]
  },
  {
   "cell_type": "code",
   "execution_count": 68,
   "id": "71c90692",
   "metadata": {},
   "outputs": [],
   "source": [
    "x=df_data.drop(['Position','Name'],axis=1)"
   ]
  },
  {
   "cell_type": "code",
   "execution_count": 69,
   "id": "80d134cd",
   "metadata": {},
   "outputs": [],
   "source": [
    "y=df_data['Position']"
   ]
  },
  {
   "cell_type": "code",
   "execution_count": 70,
   "id": "b288e1fc",
   "metadata": {},
   "outputs": [],
   "source": [
    "from sklearn.model_selection import train_test_split\n",
    "X_train,X_test,y_train,y_test=train_test_split(x,y,test_size=0.2,random_state=0)"
   ]
  },
  {
   "cell_type": "code",
   "execution_count": 81,
   "id": "9ad114c7",
   "metadata": {},
   "outputs": [],
   "source": [
    "from sklearn.linear_model import LogisticRegression\n",
    "from sklearn.svm import SVC\n",
    "from sklearn.metrics import accuracy_score\n",
    "from sklearn.metrics import confusion_matrix\n",
    "from sklearn.neural_network import MLPClassifier\n",
    "from sklearn.tree import DecisionTreeClassifier"
   ]
  },
  {
   "cell_type": "code",
   "execution_count": 82,
   "id": "3c8e07df",
   "metadata": {
    "scrolled": true
   },
   "outputs": [
    {
     "name": "stdout",
     "output_type": "stream",
     "text": [
      "\n",
      "--- SVM Classifier ---\n",
      "0.28502415458937197\n",
      "[[ 0  0  0  0 19  0  0  0  0]\n",
      " [ 0  0  0  0  1  0  0  0  0]\n",
      " [ 0  0  0  0 12  0  0  0  0]\n",
      " [ 0  0  0  0 28  0  0  0  0]\n",
      " [ 0  0  0  0 59  0  0  0  0]\n",
      " [ 0  0  0  0 15  0  0  0  0]\n",
      " [ 0  0  0  0 11  0  0  0  0]\n",
      " [ 0  0  0  0 48  0  0  0  0]\n",
      " [ 0  0  0  0 14  0  0  0  0]]\n"
     ]
    }
   ],
   "source": [
    "from sklearn.svm import SVC\n",
    "\n",
    "clf_svm = SVC(random_state=0)\n",
    "clf_svm.fit(X_train, y_train)\n",
    "\n",
    "pred_svm = clf_svm.predict(X_test)\n",
    "\n",
    "print(\"\\n--- SVM Classifier ---\")\n",
    "print(accuracy_score(y_test, pred_svm))\n",
    "print(confusion_matrix(y_test, pred_svm))"
   ]
  },
  {
   "cell_type": "code",
   "execution_count": 83,
   "id": "d56b8ef2",
   "metadata": {},
   "outputs": [
    {
     "name": "stdout",
     "output_type": "stream",
     "text": [
      "\n",
      "--- Decision Tree Classifier ---\n",
      "0.25120772946859904\n",
      "[[ 2  0  1  7  5  1  1  2  0]\n",
      " [ 0  0  0  0  0  0  0  1  0]\n",
      " [ 0  0  0  4  4  0  2  1  1]\n",
      " [ 2  1  0  7  7  3  2  5  1]\n",
      " [ 3  1  0 13 25  2  3 12  0]\n",
      " [ 1  0  1  0  4  4  2  2  1]\n",
      " [ 0  0  0  3  4  1  2  1  0]\n",
      " [ 3  2  0  2 23  2  3 11  2]\n",
      " [ 2  1  0  4  4  0  1  1  1]]\n"
     ]
    }
   ],
   "source": [
    "# Build a decision tree classifier and predict\n",
    "\n",
    "clf_dt = DecisionTreeClassifier(random_state=0)\n",
    "clf_dt.fit(X_train, y_train)\n",
    "\n",
    "pred_dt = clf_dt.predict(X_test)\n",
    "\n",
    "print (\"\\n--- Decision Tree Classifier ---\")\n",
    "print (accuracy_score(y_test, pred_dt))\n",
    "print (confusion_matrix(y_test, pred_dt))"
   ]
  },
  {
   "cell_type": "code",
   "execution_count": 84,
   "id": "e84bf2f5",
   "metadata": {},
   "outputs": [
    {
     "name": "stdout",
     "output_type": "stream",
     "text": [
      "\n",
      "--- Radom Forest ---\n",
      "0.25120772946859904\n",
      "[[ 1  0  1  6 10  0  0  0  1]\n",
      " [ 0  0  0  0  0  0  0  1  0]\n",
      " [ 1  0  0  4  3  0  0  4  0]\n",
      " [ 3  0  0  7 10  0  3  5  0]\n",
      " [ 1  0  1  9 28  2  3 15  0]\n",
      " [ 1  0  0  6  2  3  0  3  0]\n",
      " [ 0  0  0  4  2  1  2  2  0]\n",
      " [ 2  0  0  5 27  2  0 11  1]\n",
      " [ 2  0  0  3  5  1  1  2  0]]\n"
     ]
    }
   ],
   "source": [
    "from sklearn.ensemble import RandomForestClassifier\n",
    "from sklearn.metrics import accuracy_score\n",
    "import pandas as pd\n",
    "import warnings\n",
    "warnings.filterwarnings('ignore')\n",
    "\n",
    "print (\"\\n--- Radom Forest ---\")\n",
    "rf_clf = RandomForestClassifier(random_state=0)\n",
    "rf_clf.fit(X_train, y_train)\n",
    "pred = rf_clf.predict(X_test)\n",
    "print(accuracy_score(y_test,pred))\n",
    "print (confusion_matrix(y_test, pred))"
   ]
  },
  {
   "cell_type": "code",
   "execution_count": 85,
   "id": "7f8821e8",
   "metadata": {},
   "outputs": [
    {
     "name": "stdout",
     "output_type": "stream",
     "text": [
      "\n",
      "--- Logistic Regression Classifier ---\n",
      "0.28019323671497587\n",
      "[[ 0  0  0  1 18  0  0  0  0]\n",
      " [ 0  0  0  0  1  0  0  0  0]\n",
      " [ 0  0  0  0 12  0  0  0  0]\n",
      " [ 0  0  0  2 26  0  0  0  0]\n",
      " [ 0  0  0  3 56  0  0  0  0]\n",
      " [ 0  0  0  0 15  0  0  0  0]\n",
      " [ 0  0  0  2  9  0  0  0  0]\n",
      " [ 0  0  0  2 43  1  2  0  0]\n",
      " [ 0  0  0  0 14  0  0  0  0]]\n"
     ]
    }
   ],
   "source": [
    "# Build a logistic regression classifier and predict\n",
    "\n",
    "clf_lr = LogisticRegression(random_state=0)\n",
    "clf_lr.fit(X_train, y_train)\n",
    "\n",
    "pred_lr = clf_lr.predict(X_test)\n",
    "\n",
    "print (\"\\n--- Logistic Regression Classifier ---\")\n",
    "print (accuracy_score(y_test, pred_lr))\n",
    "print (confusion_matrix(y_test, pred_lr))"
   ]
  },
  {
   "cell_type": "code",
   "execution_count": 71,
   "id": "90ec49d6",
   "metadata": {},
   "outputs": [
    {
     "name": "stdout",
     "output_type": "stream",
     "text": [
      "1.0\n"
     ]
    }
   ],
   "source": [
    "from sklearn.tree import DecisionTreeRegressor\n",
    "\n",
    "clf_dt = DecisionTreeRegressor()\n",
    "clf_dt.fit(X_train, y_train)\n",
    "\n",
    "pred_dt = clf_dt.predict(X_test)\n",
    "\n",
    "print(clf_dt.score(X_train, y_train))"
   ]
  },
  {
   "cell_type": "code",
   "execution_count": 72,
   "id": "d0860cd4",
   "metadata": {},
   "outputs": [
    {
     "data": {
      "text/plain": [
       "Name              0\n",
       "Team              0\n",
       "Position          0\n",
       "Height(inches)    0\n",
       "Weight(pounds)    0\n",
       "Age               0\n",
       "dtype: int64"
      ]
     },
     "execution_count": 72,
     "metadata": {},
     "output_type": "execute_result"
    }
   ],
   "source": [
    "df_data.isnull().sum()"
   ]
  },
  {
   "cell_type": "code",
   "execution_count": 73,
   "id": "ff3e85ca",
   "metadata": {},
   "outputs": [
    {
     "name": "stdout",
     "output_type": "stream",
     "text": [
      "0.8461005528020062\n"
     ]
    }
   ],
   "source": [
    "from sklearn.ensemble import RandomForestRegressor\n",
    "\n",
    "rf_clf = RandomForestRegressor()\n",
    "rf_clf.fit(X_train, y_train)\n",
    "\n",
    "pred_rf = rf_clf.predict(X_test)\n",
    "\n",
    "print(rf_clf.score(X_train, y_train))"
   ]
  },
  {
   "cell_type": "code",
   "execution_count": 74,
   "id": "2680c3ba",
   "metadata": {},
   "outputs": [
    {
     "name": "stdout",
     "output_type": "stream",
     "text": [
      "0.04590567408906032\n"
     ]
    }
   ],
   "source": [
    "from sklearn.linear_model import LinearRegression\n",
    "\n",
    "clf_lr = LinearRegression()\n",
    "clf_lr.fit(X_train, y_train)\n",
    "\n",
    "pred_lr = clf_lr.predict(X_test)\n",
    "\n",
    "print(clf_lr.score(X_train, y_train))"
   ]
  },
  {
   "cell_type": "code",
   "execution_count": 75,
   "id": "7cbdfa2e",
   "metadata": {},
   "outputs": [
    {
     "name": "stdout",
     "output_type": "stream",
     "text": [
      "-0.007498032622055062\n"
     ]
    }
   ],
   "source": [
    "from sklearn.svm import SVR\n",
    "\n",
    "clf_svm = SVR()\n",
    "clf_svm.fit(X_train, y_train)\n",
    "\n",
    "pred_svm = clf_svm.predict(X_test)\n",
    "\n",
    "print(clf_svm.score(X_train, y_train))"
   ]
  },
  {
   "cell_type": "code",
   "execution_count": null,
   "id": "9d8d00b7",
   "metadata": {},
   "outputs": [],
   "source": []
  }
 ],
 "metadata": {
  "kernelspec": {
   "display_name": "Python 3 (ipykernel)",
   "language": "python",
   "name": "python3"
  },
  "language_info": {
   "codemirror_mode": {
    "name": "ipython",
    "version": 3
   },
   "file_extension": ".py",
   "mimetype": "text/x-python",
   "name": "python",
   "nbconvert_exporter": "python",
   "pygments_lexer": "ipython3",
   "version": "3.9.13"
  }
 },
 "nbformat": 4,
 "nbformat_minor": 5
}
